{
 "cells": [
  {
   "cell_type": "markdown",
   "metadata": {},
   "source": [
    "# Übungseinheit 12: SQLite mit Python"
   ]
  },
  {
   "cell_type": "markdown",
   "metadata": {},
   "source": [
    "## Wilkommen zu dieser Übungseinheit!\n",
    "\n",
    "\n",
    "In dieser Übungseinheit überprüfen wir unser neu erlerntes wissen und lernen, es praktisch anzuwenden."
   ]
  },
  {
   "cell_type": "markdown",
   "metadata": {},
   "source": [
    "## Worum geht es in dieser Übung?"
   ]
  },
  {
   "cell_type": "markdown",
   "metadata": {},
   "source": [
    "1. Eine neue Tabelle mit SQLite erstellen\n",
    "2. Eine Zeile in die Datenbank einfügen\n",
    "3. Eine Abfrage aus der Datenbank ausführen \n",
    "4. Bei einer Abfrage nur bestimmte Spalten zurückgeben\n",
    "5. Die Tabelle ändern und löschen"
   ]
  },
  {
   "cell_type": "markdown",
   "metadata": {},
   "source": [
    "***"
   ]
  },
  {
   "cell_type": "markdown",
   "metadata": {},
   "source": [
    "<div class=\"alert alert-block alert-info\">\n",
    "    <h3>1. Eine neue Tabelle mit <code>sqlite3</code> erstellen</h3>\n",
    "</div>\n"
   ]
  },
  {
   "cell_type": "markdown",
   "metadata": {},
   "source": [
    "Erstellen Sie eine neue Datenbank mit Namen `aufgabe12.db` und fügen Sie die folgende Tabelle `autoinfo` hinzu.<br>\n",
    "Denken Sie daran, die Verbindung immer zu schließen."
   ]
  },
  {
   "cell_type": "markdown",
   "metadata": {},
   "source": [
    "| id | hersteller | anz_türen | art | motorgröße | ps | preis|\n",
    "|:-: | :--: | :----------: | :--------: | :---------: | :--------: | :--: |\n",
    "|C001| Audi | zwei | sedan | 136 | 110| 60000 |\n",
    "|C002| BMW | zwei | cabriolet | 130| 182| 62000 |\n",
    "|C003| Chevrolet |vier|hatchback|61|\t48| 38000 |\n",
    "|C004| Honda |vier|\twagon |\t92 | 76| 47000 |\n",
    "|C005| Jaguar|zwei|sedan|326|262| 78000 |"
   ]
  },
  {
   "cell_type": "markdown",
   "metadata": {},
   "source": [
    "<div class=\"alert alert-block alert-success\">\n",
    "<h2>Lösung:</h2>\n",
    "</div>"
   ]
  },
  {
   "cell_type": "code",
   "execution_count": 1,
   "metadata": {},
   "outputs": [],
   "source": [
    "import sqlite3"
   ]
  },
  {
   "cell_type": "code",
   "execution_count": 2,
   "metadata": {},
   "outputs": [],
   "source": []
  },
  {
   "cell_type": "markdown",
   "metadata": {},
   "source": [
    "<div class=\"alert alert-block alert-info\">\n",
    "<h3>2. Daten einfügen</h3>\n",
    "</div>\n"
   ]
  },
  {
   "cell_type": "markdown",
   "metadata": {},
   "source": [
    "Fügen Sie die oben gezeigten Datenzeilen in die gerade erstellte Tabelle ein.\n",
    "\n",
    "\n",
    "**Optional:** Können Sie eine clevere Methode finden, um die Daten mit einer for-Schleife und Platzhaltern in die Datenbank einzufügen?"
   ]
  },
  {
   "cell_type": "markdown",
   "metadata": {},
   "source": [
    "<div class=\"alert alert-block alert-success\">\n",
    "<h2>Lösung:</h2>\n",
    "</div>"
   ]
  },
  {
   "cell_type": "code",
   "execution_count": 3,
   "metadata": {},
   "outputs": [],
   "source": [
    "# Daten einfügen"
   ]
  },
  {
   "cell_type": "markdown",
   "metadata": {},
   "source": [
    "<div class=\"alert alert-block alert-info\">\n",
    "<h3>3. Abfragen ausführen</h3>\n",
    "</div>\n"
   ]
  },
  {
   "cell_type": "markdown",
   "metadata": {},
   "source": [
    "Verwenden Sie ein `SELECT`-Statement, um alle Zeilen und Spalten aus der Tabelle `autoinfo` auszulesen."
   ]
  },
  {
   "cell_type": "markdown",
   "metadata": {},
   "source": [
    "<div class=\"alert alert-block alert-success\">\n",
    "<h2>Lösung:</h2>\n",
    "</div>"
   ]
  },
  {
   "cell_type": "code",
   "execution_count": 4,
   "metadata": {},
   "outputs": [
    {
     "name": "stdout",
     "output_type": "stream",
     "text": [
      "('C001', 'Audi', 'zwei', 'sedan', '136', '110', '60000')\n",
      "('C002', 'BMW', 'zwei', 'convertible', '130', '182', '62000')\n",
      "('C003', 'Chevrolet', 'vier', 'hatchback', '61', '48', '38000')\n",
      "('C004', 'Honda', 'vier', 'wagon', '92', '76', '47000')\n",
      "('C005', 'Jaguar', 'zwei', 'sedan', '326', '262', '78000')\n"
     ]
    }
   ],
   "source": []
  },
  {
   "cell_type": "markdown",
   "metadata": {},
   "source": [
    "<div class=\"alert alert-block alert-info\">\n",
    "<h3>4. Bei der Abfrage nur bestimmte Spalten zurückgeben</h3>\n",
    "</div>\n"
   ]
  },
  {
   "cell_type": "markdown",
   "metadata": {},
   "source": [
    "Führen Sie eine Abfrage der Datenbank durch, bei der nur die Spalten `hersteller`, `art` und `preis` für diejenigen Autos zurückgegeben werden, deren Preis größer als 60.000 € ist."
   ]
  },
  {
   "cell_type": "markdown",
   "metadata": {},
   "source": [
    "<div class=\"alert alert-block alert-success\">\n",
    "<h2>Lösung:</h2>\n",
    "</div>"
   ]
  },
  {
   "cell_type": "code",
   "execution_count": 5,
   "metadata": {},
   "outputs": [
    {
     "name": "stdout",
     "output_type": "stream",
     "text": [
      "\n",
      "HERSTELLER =  BMW\n",
      "ART =  convertible\n",
      "PREIS =  62000\n",
      "---------------\n",
      "\n",
      "HERSTELLER =  Jaguar\n",
      "ART =  sedan\n",
      "PREIS =  78000\n",
      "---------------\n"
     ]
    }
   ],
   "source": []
  },
  {
   "cell_type": "markdown",
   "metadata": {},
   "source": [
    "<div class=\"alert alert-block alert-info\">\n",
    "<h3>5. Änderungen und Löschungen vornehmen\n",
    "</h3>\n",
    "</div>\n"
   ]
  },
  {
   "cell_type": "markdown",
   "metadata": {},
   "source": [
    "Preise für Autos von *Chevrolet* sind um 11 Prozent gestiegen. <br />\n",
    "Die Marke **Jaguar** möchte nicht mehr in Deutschland verkaufen. Löschen Sie die entsprechenden Daten aus der Tabelle und geben Sie nur die weiterhin verfügbaren Hersteller aus."
   ]
  },
  {
   "cell_type": "markdown",
   "metadata": {},
   "source": [
    "**Hinweis 1:** Da Chevrolet nur einmal in der Tabelle vorkommt, ist eine einfache Lösung (ohne for-Schleife) möglich. Hilfreich könnte die Methode `.fetchall()` des Cursors sein."
   ]
  },
  {
   "cell_type": "markdown",
   "metadata": {},
   "source": [
    "**Hinweis 2:** Schauen Sie Kommandos nach, die eine Zeile nach einer bestimmten Bedingung löschen."
   ]
  },
  {
   "cell_type": "markdown",
   "metadata": {},
   "source": [
    "<div class=\"alert alert-block alert-success\">\n",
    "<h2>Lösung:</h2>\n",
    "</div>"
   ]
  },
  {
   "cell_type": "code",
   "execution_count": 6,
   "metadata": {},
   "outputs": [
    {
     "name": "stdout",
     "output_type": "stream",
     "text": [
      "Preise aller Zeilen mit Hersteller Chevrolet:  [('38000',)]\n",
      "Neuer Preis nach Erhöhung um 11 Prozent:  42180\n",
      "Anzahl der modifizierten Zeilen:  1\n",
      "('C001', 'Audi', 'zwei', 'sedan', '136', '110', '60000')\n",
      "('C002', 'BMW', 'zwei', 'convertible', '130', '182', '62000')\n",
      "('C003', 'Chevrolet', 'vier', 'hatchback', '61', '48', 42180)\n",
      "('C004', 'Honda', 'vier', 'wagon', '92', '76', '47000')\n",
      "('C005', 'Jaguar', 'zwei', 'sedan', '326', '262', '78000')\n"
     ]
    }
   ],
   "source": [
    "# Erhöhe den Preis von Chevrolet um 11 Prozent"
   ]
  },
  {
   "cell_type": "code",
   "execution_count": 7,
   "metadata": {},
   "outputs": [
    {
     "name": "stdout",
     "output_type": "stream",
     "text": [
      "Anzahl der modifizierten Zeilen:  1\n",
      "Hersteller:  Audi\n",
      "---------------\n",
      "Hersteller:  BMW\n",
      "---------------\n",
      "Hersteller:  Chevrolet\n",
      "---------------\n",
      "Hersteller:  Honda\n",
      "---------------\n"
     ]
    }
   ],
   "source": [
    "# Die Zeile mit dem Hersteller Jaguar löschen"
   ]
  },
  {
   "cell_type": "markdown",
   "metadata": {},
   "source": [
    "### ENDE"
   ]
  }
 ],
 "metadata": {
  "kernelspec": {
   "display_name": "Python 3 (ipykernel)",
   "language": "python",
   "name": "python3"
  },
  "language_info": {
   "codemirror_mode": {
    "name": "ipython",
    "version": 3
   },
   "file_extension": ".py",
   "mimetype": "text/x-python",
   "name": "python",
   "nbconvert_exporter": "python",
   "pygments_lexer": "ipython3",
   "version": "3.8.10"
  }
 },
 "nbformat": 4,
 "nbformat_minor": 4
}
